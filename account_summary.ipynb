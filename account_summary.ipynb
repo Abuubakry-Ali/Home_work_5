{
 "cells": [
  {
   "cell_type": "markdown",
   "metadata": {},
   "source": [
    "# Budget Analysis\n",
    "\n",
    "---\n",
    "\n",
    "## Environment Setup"
   ]
  },
  {
   "cell_type": "code",
   "execution_count": 3,
   "metadata": {
    "tags": []
   },
   "outputs": [],
   "source": [
    "# Initial Imports\n",
    "import os\n",
    "import plaid\n",
    "import requests\n",
    "import datetime\n",
    "import json\n",
    "import pandas as pd\n",
    "from dotenv import load_dotenv\n",
    "\n",
    "%matplotlib inline"
   ]
  },
  {
   "cell_type": "code",
   "execution_count": 4,
   "metadata": {},
   "outputs": [],
   "source": [
    "# Helper functions\n",
    "\n",
    "def pretty_print_response(response):\n",
    "    \"\"\"\n",
    "    This function formats a JSON file to pretty printing it in the screen.\n",
    "    \"\"\"\n",
    "    print(json.dumps(response, indent=4, sort_keys=True))"
   ]
  },
  {
   "cell_type": "code",
   "execution_count": 5,
   "metadata": {},
   "outputs": [
    {
     "data": {
      "text/plain": [
       "True"
      ]
     },
     "execution_count": 5,
     "metadata": {},
     "output_type": "execute_result"
    }
   ],
   "source": [
    "# Set environment variables from the .env file\n",
    "load_dotenv()"
   ]
  },
  {
   "cell_type": "code",
   "execution_count": 6,
   "metadata": {},
   "outputs": [],
   "source": [
    "# Extract API keys from environment variables\n",
    "PLAID_CLIENT_ID = os.getenv(\"PLAID_CLIENT_ID\")\n",
    "PLAID_SECRET = os.getenv(\"PLAID_SECRET\")\n",
    "PLAID_PUBLIC_KEY = os.getenv(\"PLAID_PUBLIC_KEY\")"
   ]
  },
  {
   "cell_type": "markdown",
   "metadata": {},
   "source": [
    "---\n",
    "\n",
    "## Plaid Access Token\n",
    "\n",
    "In this section, you will use the `plaid-python` API to generate the correct authentication tokens to access data in the free developer Sandbox. This mimics how you might connect to your own account or a customer account, but due to privacy issues, this homework will only require connecting to and analyzing the fake data from the developer sandbox that Plaid provides. \n",
    "\n",
    "Complete the following steps to generate an access token:\n",
    "\n",
    "1. Create a client to connect to plaid\n",
    "\n",
    "2. Use the client to generate a public token and request the following items: ['transactions', 'income', 'assets']\n",
    "\n",
    "3. Exchange the public token for an access token\n",
    "\n",
    "4. Test the access token by requesting and printing the available test accounts"
   ]
  },
  {
   "cell_type": "markdown",
   "metadata": {},
   "source": [
    "### 1. Create a client to connect to plaid"
   ]
  },
  {
   "cell_type": "code",
   "execution_count": 7,
   "metadata": {},
   "outputs": [],
   "source": [
    "# Create the client object\n",
    "client = plaid.Client(\n",
    "    client_id=PLAID_CLIENT_ID,\n",
    "    secret=PLAID_SECRET,\n",
    "    public_key=PLAID_PUBLIC_KEY,\n",
    "    environment=\"sandbox\"\n",
    ")"
   ]
  },
  {
   "cell_type": "code",
   "execution_count": 8,
   "metadata": {},
   "outputs": [],
   "source": [
    "# Set the institution id\n",
    "INSITUTION_ID = \"ins_109508\""
   ]
  },
  {
   "cell_type": "markdown",
   "metadata": {},
   "source": [
    "### 2. Generate a public token"
   ]
  },
  {
   "cell_type": "code",
   "execution_count": 9,
   "metadata": {
    "tags": []
   },
   "outputs": [
    {
     "name": "stdout",
     "output_type": "stream",
     "text": [
      "{'public_token': 'public-sandbox-b2aebb57-9ce8-4660-a37a-0ee69d19b520', 'request_id': 'STorA7aBsX2ndaR'}\n"
     ]
    }
   ],
   "source": [
    "# Create the public token\n",
    "create_tkn_response = client.Sandbox.public_token.create(\n",
    "    INSITUTION_ID,\n",
    "    [\"transactions\",\"income\",\"assets\"]\n",
    ")\n",
    "# Print the public token\n",
    "print(create_tkn_response)"
   ]
  },
  {
   "cell_type": "markdown",
   "metadata": {},
   "source": [
    "### 3. Exchange the public token for an access token"
   ]
  },
  {
   "cell_type": "code",
   "execution_count": 10,
   "metadata": {
    "tags": []
   },
   "outputs": [
    {
     "name": "stdout",
     "output_type": "stream",
     "text": [
      "{'access_token': 'access-sandbox-b446dfb3-6041-44c3-9e3d-350f3762024c', 'item_id': 'RDWpNpo5r6HXAp1NdyJai5oEBdK5NNURoGnQB', 'request_id': '5wYBqA1BgxMd0zh'}\n"
     ]
    }
   ],
   "source": [
    "# Retrieve the access token\n",
    "exchange_response = client.Item.public_token.exchange(create_tkn_response[\"public_token\"])\n",
    "# Print the access toke\n",
    "print(exchange_response)"
   ]
  },
  {
   "cell_type": "code",
   "execution_count": 11,
   "metadata": {},
   "outputs": [],
   "source": [
    "# Store the access token in a Python variable\n",
    "access_token = exchange_response[\"access_token\"]"
   ]
  },
  {
   "cell_type": "markdown",
   "metadata": {},
   "source": [
    "### 4. Fetch Accounts"
   ]
  },
  {
   "cell_type": "code",
   "execution_count": 12,
   "metadata": {
    "tags": []
   },
   "outputs": [
    {
     "name": "stdout",
     "output_type": "stream",
     "text": [
      "[\n",
      "    {\n",
      "        \"account_id\": \"3AyE7EdpqoUV4DkX1pxjI39y69a4jncqRRApW\",\n",
      "        \"balances\": {\n",
      "            \"available\": 100,\n",
      "            \"current\": 110,\n",
      "            \"iso_currency_code\": \"USD\",\n",
      "            \"limit\": null,\n",
      "            \"unofficial_currency_code\": null\n",
      "        },\n",
      "        \"mask\": \"0000\",\n",
      "        \"name\": \"Plaid Checking\",\n",
      "        \"official_name\": \"Plaid Gold Standard 0% Interest Checking\",\n",
      "        \"subtype\": \"checking\",\n",
      "        \"type\": \"depository\"\n",
      "    },\n",
      "    {\n",
      "        \"account_id\": \"xnA8e857PyIDLG4JzkeyuM8py853dXfnBB1og\",\n",
      "        \"balances\": {\n",
      "            \"available\": 200,\n",
      "            \"current\": 210,\n",
      "            \"iso_currency_code\": \"USD\",\n",
      "            \"limit\": null,\n",
      "            \"unofficial_currency_code\": null\n",
      "        },\n",
      "        \"mask\": \"1111\",\n",
      "        \"name\": \"Plaid Saving\",\n",
      "        \"official_name\": \"Plaid Silver Standard 0.1% Interest Saving\",\n",
      "        \"subtype\": \"savings\",\n",
      "        \"type\": \"depository\"\n",
      "    },\n",
      "    {\n",
      "        \"account_id\": \"XWyAZAB5a6FoM8gZ75Bni6EKVEXgqAudEEQ48\",\n",
      "        \"balances\": {\n",
      "            \"available\": null,\n",
      "            \"current\": 1000,\n",
      "            \"iso_currency_code\": \"USD\",\n",
      "            \"limit\": null,\n",
      "            \"unofficial_currency_code\": null\n",
      "        },\n",
      "        \"mask\": \"2222\",\n",
      "        \"name\": \"Plaid CD\",\n",
      "        \"official_name\": \"Plaid Bronze Standard 0.2% Interest CD\",\n",
      "        \"subtype\": \"cd\",\n",
      "        \"type\": \"depository\"\n",
      "    }\n",
      "]\n"
     ]
    }
   ],
   "source": [
    "# Retrieve accounts\n",
    "Accounts_response = client.Accounts.get(access_token)\n",
    "# Print accounts\n",
    "pretty_print_response(Accounts_response[\"accounts\"][:3])"
   ]
  },
  {
   "cell_type": "markdown",
   "metadata": {},
   "source": [
    "---\n",
    "\n",
    "# Account Transactions with Plaid\n",
    "\n",
    "In this section, you will use the Plaid Python SDK to connect to the Developer Sandbox account and grab a list of transactions. You will need to complete the following steps:\n",
    "\n",
    "\n",
    "1. Use the access token to fetch the transactions for the last 90 days\n",
    "\n",
    "2. Print the categories for each transaction type\n",
    "\n",
    "3. Create a new DataFrame using the following fields from the JSON transaction data: `date, name, amount, category`. (For categories with more than one label, just use the first category label in the list)\n",
    "\n",
    "4. Convert the data types to the appropriate types (i.e. datetimeindex for the date and float for the amount)"
   ]
  },
  {
   "cell_type": "markdown",
   "metadata": {},
   "source": [
    "### 1. Fetch the Transactions for the last 90 days"
   ]
  },
  {
   "cell_type": "code",
   "execution_count": 13,
   "metadata": {
    "tags": []
   },
   "outputs": [
    {
     "name": "stdout",
     "output_type": "stream",
     "text": [
      "[\n",
      "    {\n",
      "        \"account_id\": \"3AyE7EdpqoUV4DkX1pxjI39y69a4jncqRRApW\",\n",
      "        \"account_owner\": null,\n",
      "        \"amount\": 12,\n",
      "        \"authorized_date\": null,\n",
      "        \"category\": [\n",
      "            \"Food and Drink\",\n",
      "            \"Restaurants\",\n",
      "            \"Fast Food\"\n",
      "        ],\n",
      "        \"category_id\": \"13005032\",\n",
      "        \"date\": \"2020-07-11\",\n",
      "        \"iso_currency_code\": \"USD\",\n",
      "        \"location\": {\n",
      "            \"address\": null,\n",
      "            \"city\": null,\n",
      "            \"country\": null,\n",
      "            \"lat\": null,\n",
      "            \"lon\": null,\n",
      "            \"postal_code\": null,\n",
      "            \"region\": null,\n",
      "            \"store_number\": \"3322\"\n",
      "        },\n",
      "        \"merchant_name\": \"McDonald's\",\n",
      "        \"name\": \"McDonald's\",\n",
      "        \"payment_channel\": \"in store\",\n",
      "        \"payment_meta\": {\n",
      "            \"by_order_of\": null,\n",
      "            \"payee\": null,\n",
      "            \"payer\": null,\n",
      "            \"payment_method\": null,\n",
      "            \"payment_processor\": null,\n",
      "            \"ppd_id\": null,\n",
      "            \"reason\": null,\n",
      "            \"reference_number\": null\n",
      "        },\n",
      "        \"pending\": false,\n",
      "        \"pending_transaction_id\": null,\n",
      "        \"transaction_code\": null,\n",
      "        \"transaction_id\": \"ZWvn1ne5N6FBApdvQLbPHRmjAMalaWcgljnWj\",\n",
      "        \"transaction_type\": \"place\",\n",
      "        \"unofficial_currency_code\": null\n",
      "    },\n",
      "    {\n",
      "        \"account_id\": \"3AyE7EdpqoUV4DkX1pxjI39y69a4jncqRRApW\",\n",
      "        \"account_owner\": null,\n",
      "        \"amount\": 4.33,\n",
      "        \"authorized_date\": null,\n",
      "        \"category\": [\n",
      "            \"Food and Drink\",\n",
      "            \"Restaurants\",\n",
      "            \"Coffee Shop\"\n",
      "        ],\n",
      "        \"category_id\": \"13005043\",\n",
      "        \"date\": \"2020-07-11\",\n",
      "        \"iso_currency_code\": \"USD\",\n",
      "        \"location\": {\n",
      "            \"address\": null,\n",
      "            \"city\": null,\n",
      "            \"country\": null,\n",
      "            \"lat\": null,\n",
      "            \"lon\": null,\n",
      "            \"postal_code\": null,\n",
      "            \"region\": null,\n",
      "            \"store_number\": null\n",
      "        },\n",
      "        \"merchant_name\": \"Starbucks\",\n",
      "        \"name\": \"Starbucks\",\n",
      "        \"payment_channel\": \"in store\",\n",
      "        \"payment_meta\": {\n",
      "            \"by_order_of\": null,\n",
      "            \"payee\": null,\n",
      "            \"payer\": null,\n",
      "            \"payment_method\": null,\n",
      "            \"payment_processor\": null,\n",
      "            \"ppd_id\": null,\n",
      "            \"reason\": null,\n",
      "            \"reference_number\": null\n",
      "        },\n",
      "        \"pending\": false,\n",
      "        \"pending_transaction_id\": null,\n",
      "        \"transaction_code\": null,\n",
      "        \"transaction_id\": \"MDpQ3Qo5A6H8NzA3r1LDswMWR3zbzmS9yobkM\",\n",
      "        \"transaction_type\": \"place\",\n",
      "        \"unofficial_currency_code\": null\n",
      "    },\n",
      "    {\n",
      "        \"account_id\": \"3AyE7EdpqoUV4DkX1pxjI39y69a4jncqRRApW\",\n",
      "        \"account_owner\": null,\n",
      "        \"amount\": 89.4,\n",
      "        \"authorized_date\": null,\n",
      "        \"category\": [\n",
      "            \"Food and Drink\",\n",
      "            \"Restaurants\"\n",
      "        ],\n",
      "        \"category_id\": \"13005000\",\n",
      "        \"date\": \"2020-07-10\",\n",
      "        \"iso_currency_code\": \"USD\",\n",
      "        \"location\": {\n",
      "            \"address\": null,\n",
      "            \"city\": null,\n",
      "            \"country\": null,\n",
      "            \"lat\": null,\n",
      "            \"lon\": null,\n",
      "            \"postal_code\": null,\n",
      "            \"region\": null,\n",
      "            \"store_number\": null\n",
      "        },\n",
      "        \"merchant_name\": \"Sparkfun\",\n",
      "        \"name\": \"SparkFun\",\n",
      "        \"payment_channel\": \"in store\",\n",
      "        \"payment_meta\": {\n",
      "            \"by_order_of\": null,\n",
      "            \"payee\": null,\n",
      "            \"payer\": null,\n",
      "            \"payment_method\": null,\n",
      "            \"payment_processor\": null,\n",
      "            \"ppd_id\": null,\n",
      "            \"reason\": null,\n",
      "            \"reference_number\": null\n",
      "        },\n",
      "        \"pending\": false,\n",
      "        \"pending_transaction_id\": null,\n",
      "        \"transaction_code\": null,\n",
      "        \"transaction_id\": \"1Ebgkgm1G5sxX6RLo1DkSXzoG4xlxai5owbVg\",\n",
      "        \"transaction_type\": \"place\",\n",
      "        \"unofficial_currency_code\": null\n",
      "    }\n",
      "]\n"
     ]
    }
   ],
   "source": [
    "# Set the start and end date 90 days from today\n",
    "start_date = \"{:%Y-%m-%d}\".format(datetime.datetime.now() + datetime.timedelta(-90))\n",
    "end_date = \"{:%Y-%m-%d}\".format(datetime.datetime.now())\n",
    "# Retrieve the transactions for the last 90 days\n",
    "transaction_response = client.Transactions.get(access_token,start_date,end_date)\n",
    "# Print the transactions\n",
    "\n",
    "pretty_print_response(transaction_response[\"transactions\"][:3])"
   ]
  },
  {
   "cell_type": "markdown",
   "metadata": {},
   "source": [
    "### 2. Print the categories for each transaction"
   ]
  },
  {
   "cell_type": "code",
   "execution_count": 14,
   "metadata": {
    "tags": []
   },
   "outputs": [
    {
     "name": "stdout",
     "output_type": "stream",
     "text": [
      "[\n",
      "    [\n",
      "        \"Food and Drink\",\n",
      "        \"Restaurants\",\n",
      "        \"Fast Food\"\n",
      "    ],\n",
      "    [\n",
      "        \"Food and Drink\",\n",
      "        \"Restaurants\",\n",
      "        \"Coffee Shop\"\n",
      "    ],\n",
      "    [\n",
      "        \"Food and Drink\",\n",
      "        \"Restaurants\"\n",
      "    ],\n",
      "    [\n",
      "        \"Transfer\",\n",
      "        \"Credit\"\n",
      "    ],\n",
      "    [\n",
      "        \"Travel\",\n",
      "        \"Airlines and Aviation Services\"\n",
      "    ],\n",
      "    [\n",
      "        \"Travel\",\n",
      "        \"Taxi\"\n",
      "    ],\n",
      "    [\n",
      "        \"Food and Drink\",\n",
      "        \"Restaurants\"\n",
      "    ],\n",
      "    [\n",
      "        \"Payment\"\n",
      "    ],\n",
      "    [\n",
      "        \"Food and Drink\",\n",
      "        \"Restaurants\",\n",
      "        \"Fast Food\"\n",
      "    ],\n",
      "    [\n",
      "        \"Shops\",\n",
      "        \"Sporting Goods\"\n",
      "    ],\n",
      "    [\n",
      "        \"Payment\",\n",
      "        \"Credit Card\"\n",
      "    ],\n",
      "    [\n",
      "        \"Travel\",\n",
      "        \"Taxi\"\n",
      "    ],\n",
      "    [\n",
      "        \"Transfer\",\n",
      "        \"Debit\"\n",
      "    ],\n",
      "    [\n",
      "        \"Transfer\",\n",
      "        \"Deposit\"\n",
      "    ],\n",
      "    [\n",
      "        \"Recreation\",\n",
      "        \"Gyms and Fitness Centers\"\n",
      "    ],\n",
      "    [\n",
      "        \"Travel\",\n",
      "        \"Airlines and Aviation Services\"\n",
      "    ],\n",
      "    [\n",
      "        \"Food and Drink\",\n",
      "        \"Restaurants\",\n",
      "        \"Fast Food\"\n",
      "    ],\n",
      "    [\n",
      "        \"Food and Drink\",\n",
      "        \"Restaurants\",\n",
      "        \"Coffee Shop\"\n",
      "    ],\n",
      "    [\n",
      "        \"Food and Drink\",\n",
      "        \"Restaurants\"\n",
      "    ],\n",
      "    [\n",
      "        \"Transfer\",\n",
      "        \"Credit\"\n",
      "    ],\n",
      "    [\n",
      "        \"Travel\",\n",
      "        \"Airlines and Aviation Services\"\n",
      "    ],\n",
      "    [\n",
      "        \"Travel\",\n",
      "        \"Taxi\"\n",
      "    ],\n",
      "    [\n",
      "        \"Food and Drink\",\n",
      "        \"Restaurants\"\n",
      "    ],\n",
      "    [\n",
      "        \"Payment\"\n",
      "    ],\n",
      "    [\n",
      "        \"Food and Drink\",\n",
      "        \"Restaurants\",\n",
      "        \"Fast Food\"\n",
      "    ],\n",
      "    [\n",
      "        \"Shops\",\n",
      "        \"Sporting Goods\"\n",
      "    ],\n",
      "    [\n",
      "        \"Payment\",\n",
      "        \"Credit Card\"\n",
      "    ],\n",
      "    [\n",
      "        \"Travel\",\n",
      "        \"Taxi\"\n",
      "    ],\n",
      "    [\n",
      "        \"Transfer\",\n",
      "        \"Debit\"\n",
      "    ],\n",
      "    [\n",
      "        \"Transfer\",\n",
      "        \"Deposit\"\n",
      "    ],\n",
      "    [\n",
      "        \"Recreation\",\n",
      "        \"Gyms and Fitness Centers\"\n",
      "    ],\n",
      "    [\n",
      "        \"Travel\",\n",
      "        \"Airlines and Aviation Services\"\n",
      "    ],\n",
      "    [\n",
      "        \"Food and Drink\",\n",
      "        \"Restaurants\",\n",
      "        \"Fast Food\"\n",
      "    ],\n",
      "    [\n",
      "        \"Food and Drink\",\n",
      "        \"Restaurants\",\n",
      "        \"Coffee Shop\"\n",
      "    ],\n",
      "    [\n",
      "        \"Food and Drink\",\n",
      "        \"Restaurants\"\n",
      "    ],\n",
      "    [\n",
      "        \"Transfer\",\n",
      "        \"Credit\"\n",
      "    ],\n",
      "    [\n",
      "        \"Travel\",\n",
      "        \"Airlines and Aviation Services\"\n",
      "    ],\n",
      "    [\n",
      "        \"Travel\",\n",
      "        \"Taxi\"\n",
      "    ],\n",
      "    [\n",
      "        \"Food and Drink\",\n",
      "        \"Restaurants\"\n",
      "    ],\n",
      "    [\n",
      "        \"Payment\"\n",
      "    ],\n",
      "    [\n",
      "        \"Food and Drink\",\n",
      "        \"Restaurants\",\n",
      "        \"Fast Food\"\n",
      "    ],\n",
      "    [\n",
      "        \"Shops\",\n",
      "        \"Sporting Goods\"\n",
      "    ],\n",
      "    [\n",
      "        \"Payment\",\n",
      "        \"Credit Card\"\n",
      "    ],\n",
      "    [\n",
      "        \"Travel\",\n",
      "        \"Taxi\"\n",
      "    ],\n",
      "    [\n",
      "        \"Transfer\",\n",
      "        \"Debit\"\n",
      "    ],\n",
      "    [\n",
      "        \"Transfer\",\n",
      "        \"Deposit\"\n",
      "    ],\n",
      "    [\n",
      "        \"Recreation\",\n",
      "        \"Gyms and Fitness Centers\"\n",
      "    ],\n",
      "    [\n",
      "        \"Travel\",\n",
      "        \"Airlines and Aviation Services\"\n",
      "    ],\n",
      "    [\n",
      "        \"Food and Drink\",\n",
      "        \"Restaurants\",\n",
      "        \"Fast Food\"\n",
      "    ],\n",
      "    [\n",
      "        \"Food and Drink\",\n",
      "        \"Restaurants\",\n",
      "        \"Coffee Shop\"\n",
      "    ]\n",
      "]\n"
     ]
    }
   ],
   "source": [
    "# Create a for-loop to print the categories for each transaction\n",
    "\n",
    "transaction_categories = [transaction[\"category\"] for transaction in transaction_response['transactions']]\n",
    "\n",
    "pretty_print_response(transaction_categories)"
   ]
  },
  {
   "cell_type": "markdown",
   "metadata": {},
   "source": [
    "### 3. Create a new DataFrame using the following fields from the JSON transaction data: `date`, `name`, `amount`, `category`. \n",
    "\n",
    "(For categories with more than one label, just use the first category label in the list)"
   ]
  },
  {
   "cell_type": "code",
   "execution_count": 15,
   "metadata": {
    "tags": []
   },
   "outputs": [
    {
     "data": {
      "text/html": [
       "<div>\n",
       "<style scoped>\n",
       "    .dataframe tbody tr th:only-of-type {\n",
       "        vertical-align: middle;\n",
       "    }\n",
       "\n",
       "    .dataframe tbody tr th {\n",
       "        vertical-align: top;\n",
       "    }\n",
       "\n",
       "    .dataframe thead th {\n",
       "        text-align: right;\n",
       "    }\n",
       "</style>\n",
       "<table border=\"1\" class=\"dataframe\">\n",
       "  <thead>\n",
       "    <tr style=\"text-align: right;\">\n",
       "      <th></th>\n",
       "      <th>date</th>\n",
       "      <th>name</th>\n",
       "      <th>amount</th>\n",
       "      <th>category</th>\n",
       "    </tr>\n",
       "  </thead>\n",
       "  <tbody>\n",
       "    <tr>\n",
       "      <th>0</th>\n",
       "      <td>2020-07-11</td>\n",
       "      <td>McDonald's</td>\n",
       "      <td>12</td>\n",
       "      <td>Food and Drink</td>\n",
       "    </tr>\n",
       "    <tr>\n",
       "      <th>1</th>\n",
       "      <td>2020-07-11</td>\n",
       "      <td>Starbucks</td>\n",
       "      <td>4.33</td>\n",
       "      <td>Food and Drink</td>\n",
       "    </tr>\n",
       "    <tr>\n",
       "      <th>2</th>\n",
       "      <td>2020-07-10</td>\n",
       "      <td>SparkFun</td>\n",
       "      <td>89.4</td>\n",
       "      <td>Food and Drink</td>\n",
       "    </tr>\n",
       "    <tr>\n",
       "      <th>3</th>\n",
       "      <td>2020-07-09</td>\n",
       "      <td>INTRST PYMNT</td>\n",
       "      <td>-4.22</td>\n",
       "      <td>Transfer</td>\n",
       "    </tr>\n",
       "    <tr>\n",
       "      <th>4</th>\n",
       "      <td>2020-06-29</td>\n",
       "      <td>United Airlines</td>\n",
       "      <td>500</td>\n",
       "      <td>Travel</td>\n",
       "    </tr>\n",
       "  </tbody>\n",
       "</table>\n",
       "</div>"
      ],
      "text/plain": [
       "         date             name amount        category\n",
       "0  2020-07-11       McDonald's     12  Food and Drink\n",
       "1  2020-07-11        Starbucks   4.33  Food and Drink\n",
       "2  2020-07-10         SparkFun   89.4  Food and Drink\n",
       "3  2020-07-09     INTRST PYMNT  -4.22        Transfer\n",
       "4  2020-06-29  United Airlines    500          Travel"
      ]
     },
     "execution_count": 15,
     "metadata": {},
     "output_type": "execute_result"
    }
   ],
   "source": [
    "# Define an empty DataFrame and set the columns as date, name, amount, and category\n",
    "df2 = pd.DataFrame(columns=['date','name','amount','category'])\n",
    "# Retrieve all the transactions\n",
    "transaction_response['transactions']\n",
    "# Populate the transactions DataFrame with the transactions data\n",
    "i=0\n",
    "for response in transaction_response['transactions']:\n",
    "     \n",
    "     df2.loc[i]= [response[\"date\"],response[\"name\"],response[\"amount\"],response[\"category\"][0]]\n",
    "     i=i+1\n",
    "# Display sample data from the DataFrame    \n",
    "df2.head()"
   ]
  },
  {
   "cell_type": "code",
   "execution_count": 16,
   "metadata": {},
   "outputs": [],
   "source": [
    "### 4. Convert the data types to the appropriate types \n",
    "\n",
    "# (i.e. datetimeindex for the date and float for the amount)\n",
    "df2.amount = df2.amount.astype(float)\n",
    "df2['date'] = pd.to_datetime(df2['date'])\n"
   ]
  },
  {
   "cell_type": "code",
   "execution_count": 17,
   "metadata": {},
   "outputs": [
    {
     "data": {
      "text/plain": [
       "date        datetime64[ns]\n",
       "name                object\n",
       "amount             float64\n",
       "category            object\n",
       "dtype: object"
      ]
     },
     "execution_count": 17,
     "metadata": {},
     "output_type": "execute_result"
    }
   ],
   "source": [
    "# Display data types\n",
    "df2.dtypes\n"
   ]
  },
  {
   "cell_type": "code",
   "execution_count": 18,
   "metadata": {},
   "outputs": [],
   "source": [
    "# Make any required data type transformation\n",
    "df2 = df2.astype({\"name\": str, \"category\": str})"
   ]
  },
  {
   "cell_type": "code",
   "execution_count": 19,
   "metadata": {},
   "outputs": [
    {
     "data": {
      "text/html": [
       "<div>\n",
       "<style scoped>\n",
       "    .dataframe tbody tr th:only-of-type {\n",
       "        vertical-align: middle;\n",
       "    }\n",
       "\n",
       "    .dataframe tbody tr th {\n",
       "        vertical-align: top;\n",
       "    }\n",
       "\n",
       "    .dataframe thead th {\n",
       "        text-align: right;\n",
       "    }\n",
       "</style>\n",
       "<table border=\"1\" class=\"dataframe\">\n",
       "  <thead>\n",
       "    <tr style=\"text-align: right;\">\n",
       "      <th></th>\n",
       "      <th>name</th>\n",
       "      <th>amount</th>\n",
       "      <th>category</th>\n",
       "    </tr>\n",
       "    <tr>\n",
       "      <th>date</th>\n",
       "      <th></th>\n",
       "      <th></th>\n",
       "      <th></th>\n",
       "    </tr>\n",
       "  </thead>\n",
       "  <tbody>\n",
       "    <tr>\n",
       "      <th>2020-07-11</th>\n",
       "      <td>McDonald's</td>\n",
       "      <td>12.00</td>\n",
       "      <td>Food and Drink</td>\n",
       "    </tr>\n",
       "    <tr>\n",
       "      <th>2020-07-11</th>\n",
       "      <td>Starbucks</td>\n",
       "      <td>4.33</td>\n",
       "      <td>Food and Drink</td>\n",
       "    </tr>\n",
       "    <tr>\n",
       "      <th>2020-07-10</th>\n",
       "      <td>SparkFun</td>\n",
       "      <td>89.40</td>\n",
       "      <td>Food and Drink</td>\n",
       "    </tr>\n",
       "    <tr>\n",
       "      <th>2020-07-09</th>\n",
       "      <td>INTRST PYMNT</td>\n",
       "      <td>-4.22</td>\n",
       "      <td>Transfer</td>\n",
       "    </tr>\n",
       "    <tr>\n",
       "      <th>2020-06-29</th>\n",
       "      <td>United Airlines</td>\n",
       "      <td>500.00</td>\n",
       "      <td>Travel</td>\n",
       "    </tr>\n",
       "  </tbody>\n",
       "</table>\n",
       "</div>"
      ],
      "text/plain": [
       "                       name  amount        category\n",
       "date                                               \n",
       "2020-07-11       McDonald's   12.00  Food and Drink\n",
       "2020-07-11        Starbucks    4.33  Food and Drink\n",
       "2020-07-10         SparkFun   89.40  Food and Drink\n",
       "2020-07-09     INTRST PYMNT   -4.22        Transfer\n",
       "2020-06-29  United Airlines  500.00          Travel"
      ]
     },
     "execution_count": 19,
     "metadata": {},
     "output_type": "execute_result"
    }
   ],
   "source": [
    "# Set the date column as index\n",
    "df2.set_index('date',inplace=True)\n",
    "# Display sample data\n",
    "df2.head()"
   ]
  },
  {
   "cell_type": "markdown",
   "metadata": {},
   "source": [
    "---"
   ]
  },
  {
   "cell_type": "markdown",
   "metadata": {},
   "source": [
    "# Income Analysis with Plaid\n",
    "\n",
    "In this section, you will use the Plaid Sandbox to complete the following:\n",
    "\n",
    "1. Determine the previous year's gross income and print the results\n",
    "\n",
    "2. Determine the current monthly income and print the results\n",
    "\n",
    "3. Determine the projected yearly income and print the results"
   ]
  },
  {
   "cell_type": "code",
   "execution_count": 20,
   "metadata": {
    "tags": []
   },
   "outputs": [
    {
     "name": "stdout",
     "output_type": "stream",
     "text": [
      "{\n",
      "    \"income_streams\": [\n",
      "        {\n",
      "            \"confidence\": 0.99,\n",
      "            \"days\": 690,\n",
      "            \"monthly_income\": 500,\n",
      "            \"name\": \"UNITED AIRLINES\"\n",
      "        }\n",
      "    ],\n",
      "    \"last_year_income\": 6000,\n",
      "    \"last_year_income_before_tax\": 7285,\n",
      "    \"max_number_of_overlapping_income_streams\": 1,\n",
      "    \"number_of_income_streams\": 1,\n",
      "    \"projected_yearly_income\": 6085,\n",
      "    \"projected_yearly_income_before_tax\": 7389\n",
      "}\n"
     ]
    }
   ],
   "source": [
    "# Fetch de income data\n",
    "income_data =client.Income.get(access_token)\n",
    "# Print the income data\n",
    "# print(json.dumps(income_data[\"income\"],indent=4, sort_keys=True))\n",
    "pretty_print_response(income_data[\"income\"])"
   ]
  },
  {
   "cell_type": "code",
   "execution_count": 21,
   "metadata": {
    "tags": []
   },
   "outputs": [
    {
     "name": "stdout",
     "output_type": "stream",
     "text": [
      "previous years gross income =7285\n"
     ]
    }
   ],
   "source": [
    "# Determine the previous year's gross income and print the results\n",
    "prev_yea_g_income= income_data[\"income\"][\"last_year_income_before_tax\"]\n",
    "print(f'previous years gross income ={prev_yea_g_income}')"
   ]
  },
  {
   "cell_type": "code",
   "execution_count": 22,
   "metadata": {
    "tags": []
   },
   "outputs": [
    {
     "name": "stdout",
     "output_type": "stream",
     "text": [
      "current monthly income = 500\n"
     ]
    }
   ],
   "source": [
    "# Determine the current monthly income and print the results\n",
    "mon_g_income=income_data[\"income\"][\"income_streams\"][0][\"monthly_income\"]\n",
    "print(f'current monthly income = {mon_g_income}')"
   ]
  },
  {
   "cell_type": "code",
   "execution_count": 23,
   "metadata": {
    "tags": []
   },
   "outputs": [
    {
     "name": "stdout",
     "output_type": "stream",
     "text": [
      "Projected yearly income = 6085\n"
     ]
    }
   ],
   "source": [
    "# Determine the projected yearly income and print the results\n",
    "P_yearly_income= income_data[\"income\"][\"projected_yearly_income\"]\n",
    "print(f'Projected yearly income = {P_yearly_income}')"
   ]
  },
  {
   "cell_type": "markdown",
   "metadata": {},
   "source": [
    "---"
   ]
  },
  {
   "cell_type": "markdown",
   "metadata": {},
   "source": [
    "# Budget Analysis\n",
    "In this section, you will use the transactions DataFrame to analyze the customer's budget\n",
    "\n",
    "1. Calculate the total spending per category and print the results (Hint: groupby or count transactions per category)\n",
    "\n",
    "2. Generate a bar chart with the number of transactions for each category\n",
    "\n",
    "3. Calulate the expenses per month\n",
    "\n",
    "4. Plot the total expenses per month"
   ]
  },
  {
   "cell_type": "markdown",
   "metadata": {},
   "source": [
    "### Calculate the expenses per category"
   ]
  },
  {
   "cell_type": "code",
   "execution_count": 24,
   "metadata": {},
   "outputs": [
    {
     "data": {
      "text/html": [
       "<div>\n",
       "<style scoped>\n",
       "    .dataframe tbody tr th:only-of-type {\n",
       "        vertical-align: middle;\n",
       "    }\n",
       "\n",
       "    .dataframe tbody tr th {\n",
       "        vertical-align: top;\n",
       "    }\n",
       "\n",
       "    .dataframe thead th {\n",
       "        text-align: right;\n",
       "    }\n",
       "</style>\n",
       "<table border=\"1\" class=\"dataframe\">\n",
       "  <thead>\n",
       "    <tr style=\"text-align: right;\">\n",
       "      <th></th>\n",
       "      <th>amount</th>\n",
       "    </tr>\n",
       "    <tr>\n",
       "      <th>category</th>\n",
       "      <th></th>\n",
       "    </tr>\n",
       "  </thead>\n",
       "  <tbody>\n",
       "    <tr>\n",
       "      <th>Food and Drink</th>\n",
       "      <td>3333.52</td>\n",
       "    </tr>\n",
       "    <tr>\n",
       "      <th>Payment</th>\n",
       "      <td>6310.50</td>\n",
       "    </tr>\n",
       "    <tr>\n",
       "      <th>Recreation</th>\n",
       "      <td>235.50</td>\n",
       "    </tr>\n",
       "    <tr>\n",
       "      <th>Shops</th>\n",
       "      <td>1500.00</td>\n",
       "    </tr>\n",
       "    <tr>\n",
       "      <th>Transfer</th>\n",
       "      <td>20537.34</td>\n",
       "    </tr>\n",
       "    <tr>\n",
       "      <th>Travel</th>\n",
       "      <td>35.19</td>\n",
       "    </tr>\n",
       "  </tbody>\n",
       "</table>\n",
       "</div>"
      ],
      "text/plain": [
       "                  amount\n",
       "category                \n",
       "Food and Drink   3333.52\n",
       "Payment          6310.50\n",
       "Recreation        235.50\n",
       "Shops            1500.00\n",
       "Transfer        20537.34\n",
       "Travel             35.19"
      ]
     },
     "execution_count": 24,
     "metadata": {},
     "output_type": "execute_result"
    }
   ],
   "source": [
    "# Compute the total expenses per category\n",
    "transaction_by_category = df2.groupby([\"category\"])[[\"amount\"]].sum()\n",
    "# Display the expenses per catefory\n",
    "transaction_by_category\n"
   ]
  },
  {
   "cell_type": "code",
   "execution_count": 25,
   "metadata": {},
   "outputs": [
    {
     "data": {
      "text/plain": [
       "<matplotlib.axes._subplots.AxesSubplot at 0x2450566b448>"
      ]
     },
     "execution_count": 25,
     "metadata": {},
     "output_type": "execute_result"
    },
    {
     "data": {
      "image/png": "[encoded data removed]",
      "text/plain": [
       "<Figure size 720x1440 with 1 Axes>"
      ]
     },
     "metadata": {},
     "output_type": "display_data"
    }
   ],
   "source": [
    "# Create a spending categories pie chart.\n",
    "transaction_by_category.plot.pie(y='amount', figsize=(10, 20),title='spending categories')"
   ]
  },
  {
   "cell_type": "markdown",
   "metadata": {},
   "source": [
    "### Calculate the expenses per month"
   ]
  },
  {
   "cell_type": "code",
   "execution_count": 26,
   "metadata": {},
   "outputs": [
    {
     "data": {
      "text/html": [
       "<div>\n",
       "<style scoped>\n",
       "    .dataframe tbody tr th:only-of-type {\n",
       "        vertical-align: middle;\n",
       "    }\n",
       "\n",
       "    .dataframe tbody tr th {\n",
       "        vertical-align: top;\n",
       "    }\n",
       "\n",
       "    .dataframe thead th {\n",
       "        text-align: right;\n",
       "    }\n",
       "</style>\n",
       "<table border=\"1\" class=\"dataframe\">\n",
       "  <thead>\n",
       "    <tr style=\"text-align: right;\">\n",
       "      <th></th>\n",
       "      <th>amount</th>\n",
       "    </tr>\n",
       "    <tr>\n",
       "      <th>month</th>\n",
       "      <th></th>\n",
       "    </tr>\n",
       "  </thead>\n",
       "  <tbody>\n",
       "    <tr>\n",
       "      <th>4</th>\n",
       "      <td>10560.06</td>\n",
       "    </tr>\n",
       "    <tr>\n",
       "      <th>5</th>\n",
       "      <td>10645.24</td>\n",
       "    </tr>\n",
       "    <tr>\n",
       "      <th>6</th>\n",
       "      <td>10645.24</td>\n",
       "    </tr>\n",
       "    <tr>\n",
       "      <th>7</th>\n",
       "      <td>101.51</td>\n",
       "    </tr>\n",
       "  </tbody>\n",
       "</table>\n",
       "</div>"
      ],
      "text/plain": [
       "         amount\n",
       "month          \n",
       "4      10560.06\n",
       "5      10645.24\n",
       "6      10645.24\n",
       "7        101.51"
      ]
     },
     "execution_count": 26,
     "metadata": {},
     "output_type": "execute_result"
    }
   ],
   "source": [
    "# Create a DataFrame with the total expenses\n",
    "df2.reset_index(inplace=True)\n",
    "df2['month'] = df2['date'].dt.month\n",
    "expenses_per_month = df2.groupby([\"month\"])[[\"amount\"]].sum()\n",
    "#Display sample data\n",
    "expenses_per_month\n"
   ]
  },
  {
   "cell_type": "code",
   "execution_count": 27,
   "metadata": {},
   "outputs": [
    {
     "data": {
      "text/plain": [
       "<matplotlib.axes._subplots.AxesSubplot at 0x24505fc9e08>"
      ]
     },
     "execution_count": 27,
     "metadata": {},
     "output_type": "execute_result"
    },
    {
     "data": {
      "image/png": "[encoded data removed]",
      "text/plain": [
       "<Figure size 432x288 with 1 Axes>"
      ]
     },
     "metadata": {
      "needs_background": "light"
     },
     "output_type": "display_data"
    }
   ],
   "source": [
    "# Create a spending per month bar chart\n",
    "expenses_per_month.plot.bar(title='spending per month')"
   ]
  }
 ],
 "metadata": {
  "kernelspec": {
   "display_name": "Python 3.7.7 64-bit ('pyvizenv': conda)",
   "language": "python",
   "name": "python37764bitpyvizenvconda021c88114fbb44a5adffe67e9bed23ba"
  },
  "language_info": {
   "codemirror_mode": {
    "name": "ipython",
    "version": 3
   },
   "file_extension": ".py",
   "mimetype": "text/x-python",
   "name": "python",
   "nbconvert_exporter": "python",
   "pygments_lexer": "ipython3",
   "version": "3.7.7"
  }
 },
 "nbformat": 4,
 "nbformat_minor": 4
}
